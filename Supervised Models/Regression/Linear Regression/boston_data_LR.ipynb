{
 "cells": [
  {
   "cell_type": "code",
   "execution_count": 19,
   "id": "441230ea-972c-47dd-9eac-36deb8ba1bd5",
   "metadata": {},
   "outputs": [],
   "source": [
    "import pandas as pd\n",
    "import numpy as np\n",
    "\n",
    "import matplotlib.pyplot as plt\n",
    "import seaborn as sns\n",
    "%matplotlib inline\n",
    "\n",
    "from sklearn.model_selection import train_test_split\n",
    "from sklearn.linear_model import LinearRegression\n",
    "from scipy.stats.mstats import normaltest\n",
    "from scipy.stats import boxcox\n",
    "from sklearn.preprocessing import StandardScaler, PolynomialFeatures\n",
    "from sklearn.metrics import r2_score\n",
    "\n",
    "import warnings\n",
    "warnings.filterwarnings('ignore')"
   ]
  },
  {
   "cell_type": "code",
   "execution_count": 3,
   "id": "451fd306-786d-45a2-8610-a2a8515f0ad4",
   "metadata": {},
   "outputs": [],
   "source": [
    "data = pd.read_pickle(r\"C:\\Jupyter Projects\\Machine Learning\\IBM\\Supervised ML\\Linear Regression\\boston_housing_clean.pickle\")"
   ]
  },
  {
   "cell_type": "code",
   "execution_count": 8,
   "id": "d11a06f7-110b-414e-ad71-c7b9b7ccb83c",
   "metadata": {},
   "outputs": [],
   "source": [
    "boston_data = data['dataframe']"
   ]
  },
  {
   "cell_type": "code",
   "execution_count": 9,
   "id": "5f347bd1-4f6d-45d5-8332-38d220fce0b0",
   "metadata": {},
   "outputs": [
    {
     "data": {
      "text/html": [
       "<div>\n",
       "<style scoped>\n",
       "    .dataframe tbody tr th:only-of-type {\n",
       "        vertical-align: middle;\n",
       "    }\n",
       "\n",
       "    .dataframe tbody tr th {\n",
       "        vertical-align: top;\n",
       "    }\n",
       "\n",
       "    .dataframe thead th {\n",
       "        text-align: right;\n",
       "    }\n",
       "</style>\n",
       "<table border=\"1\" class=\"dataframe\">\n",
       "  <thead>\n",
       "    <tr style=\"text-align: right;\">\n",
       "      <th></th>\n",
       "      <th>CRIM</th>\n",
       "      <th>ZN</th>\n",
       "      <th>INDUS</th>\n",
       "      <th>CHAS</th>\n",
       "      <th>NOX</th>\n",
       "      <th>RM</th>\n",
       "      <th>AGE</th>\n",
       "      <th>DIS</th>\n",
       "      <th>RAD</th>\n",
       "      <th>TAX</th>\n",
       "      <th>PTRATIO</th>\n",
       "      <th>B</th>\n",
       "      <th>LSTAT</th>\n",
       "      <th>MEDV</th>\n",
       "    </tr>\n",
       "  </thead>\n",
       "  <tbody>\n",
       "    <tr>\n",
       "      <th>0</th>\n",
       "      <td>0.00632</td>\n",
       "      <td>18.0</td>\n",
       "      <td>2.31</td>\n",
       "      <td>0.0</td>\n",
       "      <td>0.538</td>\n",
       "      <td>6.575</td>\n",
       "      <td>65.2</td>\n",
       "      <td>4.0900</td>\n",
       "      <td>1.0</td>\n",
       "      <td>296.0</td>\n",
       "      <td>15.3</td>\n",
       "      <td>396.90</td>\n",
       "      <td>4.98</td>\n",
       "      <td>24.0</td>\n",
       "    </tr>\n",
       "    <tr>\n",
       "      <th>1</th>\n",
       "      <td>0.02731</td>\n",
       "      <td>0.0</td>\n",
       "      <td>7.07</td>\n",
       "      <td>0.0</td>\n",
       "      <td>0.469</td>\n",
       "      <td>6.421</td>\n",
       "      <td>78.9</td>\n",
       "      <td>4.9671</td>\n",
       "      <td>2.0</td>\n",
       "      <td>242.0</td>\n",
       "      <td>17.8</td>\n",
       "      <td>396.90</td>\n",
       "      <td>9.14</td>\n",
       "      <td>21.6</td>\n",
       "    </tr>\n",
       "    <tr>\n",
       "      <th>2</th>\n",
       "      <td>0.02729</td>\n",
       "      <td>0.0</td>\n",
       "      <td>7.07</td>\n",
       "      <td>0.0</td>\n",
       "      <td>0.469</td>\n",
       "      <td>7.185</td>\n",
       "      <td>61.1</td>\n",
       "      <td>4.9671</td>\n",
       "      <td>2.0</td>\n",
       "      <td>242.0</td>\n",
       "      <td>17.8</td>\n",
       "      <td>392.83</td>\n",
       "      <td>4.03</td>\n",
       "      <td>34.7</td>\n",
       "    </tr>\n",
       "    <tr>\n",
       "      <th>3</th>\n",
       "      <td>0.03237</td>\n",
       "      <td>0.0</td>\n",
       "      <td>2.18</td>\n",
       "      <td>0.0</td>\n",
       "      <td>0.458</td>\n",
       "      <td>6.998</td>\n",
       "      <td>45.8</td>\n",
       "      <td>6.0622</td>\n",
       "      <td>3.0</td>\n",
       "      <td>222.0</td>\n",
       "      <td>18.7</td>\n",
       "      <td>394.63</td>\n",
       "      <td>2.94</td>\n",
       "      <td>33.4</td>\n",
       "    </tr>\n",
       "    <tr>\n",
       "      <th>4</th>\n",
       "      <td>0.06905</td>\n",
       "      <td>0.0</td>\n",
       "      <td>2.18</td>\n",
       "      <td>0.0</td>\n",
       "      <td>0.458</td>\n",
       "      <td>7.147</td>\n",
       "      <td>54.2</td>\n",
       "      <td>6.0622</td>\n",
       "      <td>3.0</td>\n",
       "      <td>222.0</td>\n",
       "      <td>18.7</td>\n",
       "      <td>396.90</td>\n",
       "      <td>5.33</td>\n",
       "      <td>36.2</td>\n",
       "    </tr>\n",
       "  </tbody>\n",
       "</table>\n",
       "</div>"
      ],
      "text/plain": [
       "      CRIM    ZN  INDUS  CHAS    NOX     RM   AGE     DIS  RAD    TAX  \\\n",
       "0  0.00632  18.0   2.31   0.0  0.538  6.575  65.2  4.0900  1.0  296.0   \n",
       "1  0.02731   0.0   7.07   0.0  0.469  6.421  78.9  4.9671  2.0  242.0   \n",
       "2  0.02729   0.0   7.07   0.0  0.469  7.185  61.1  4.9671  2.0  242.0   \n",
       "3  0.03237   0.0   2.18   0.0  0.458  6.998  45.8  6.0622  3.0  222.0   \n",
       "4  0.06905   0.0   2.18   0.0  0.458  7.147  54.2  6.0622  3.0  222.0   \n",
       "\n",
       "   PTRATIO       B  LSTAT  MEDV  \n",
       "0     15.3  396.90   4.98  24.0  \n",
       "1     17.8  396.90   9.14  21.6  \n",
       "2     17.8  392.83   4.03  34.7  \n",
       "3     18.7  394.63   2.94  33.4  \n",
       "4     18.7  396.90   5.33  36.2  "
      ]
     },
     "execution_count": 9,
     "metadata": {},
     "output_type": "execute_result"
    }
   ],
   "source": [
    "boston_data.head()"
   ]
  },
  {
   "cell_type": "markdown",
   "id": "c5c09b6a-36bf-4d40-a62a-e7e6d17d37cd",
   "metadata": {},
   "source": [
    "### Our target variable here is MEDV, so we will make it normally distributed if it is not"
   ]
  },
  {
   "cell_type": "code",
   "execution_count": 10,
   "id": "dd731113-15bf-4696-ade4-3cebf64f00f7",
   "metadata": {},
   "outputs": [
    {
     "data": {
      "text/plain": [
       "<Axes: xlabel='MEDV', ylabel='Density'>"
      ]
     },
     "execution_count": 10,
     "metadata": {},
     "output_type": "execute_result"
    },
    {
     "data": {
      "image/png": "[encoded data removed]",
      "text/plain": [
       "<Figure size 640x480 with 1 Axes>"
      ]
     },
     "metadata": {},
     "output_type": "display_data"
    }
   ],
   "source": [
    "sns.distplot(boston_data.MEDV)"
   ]
  },
  {
   "cell_type": "code",
   "execution_count": 11,
   "id": "4ffa9963-83c1-4490-a685-1262d9ad97cd",
   "metadata": {},
   "outputs": [
    {
     "data": {
      "text/plain": [
       "NormaltestResult(statistic=90.9746873700967, pvalue=1.7583188871696098e-20)"
      ]
     },
     "execution_count": 11,
     "metadata": {},
     "output_type": "execute_result"
    }
   ],
   "source": [
    "normaltest(boston_data.MEDV)"
   ]
  },
  {
   "cell_type": "markdown",
   "id": "e6f1ab9b-1750-4b05-a38d-1d53f26b051a",
   "metadata": {},
   "source": [
    "The higher the pvalue, the feature is close to the normal distribution.\n",
    "\n",
    "As you can see the pvalue is extremely low, so we will transform the values to more normally distribution.\n",
    "\n",
    "Ways to transform:\n",
    "\n",
    "* Log\n",
    "* Square Root\n",
    "* BoxCox"
   ]
  },
  {
   "cell_type": "markdown",
   "id": "fc4eb711-69c6-40a7-bf83-ef07a96f0a20",
   "metadata": {},
   "source": [
    "### Log Transformation"
   ]
  },
  {
   "cell_type": "code",
   "execution_count": 12,
   "id": "35079e32-ba4d-4a65-a0f4-f95470e80f6e",
   "metadata": {},
   "outputs": [
    {
     "data": {
      "text/plain": [
       "<Axes: xlabel='MEDV', ylabel='Density'>"
      ]
     },
     "execution_count": 12,
     "metadata": {},
     "output_type": "execute_result"
    },
    {
     "data": {
      "image/png": "[encoded data removed]",
      "text/plain": [
       "<Figure size 640x480 with 1 Axes>"
      ]
     },
     "metadata": {},
     "output_type": "display_data"
    }
   ],
   "source": [
    "log_tran = np.log(boston_data.MEDV)\n",
    "sns.distplot(log_tran)"
   ]
  },
  {
   "cell_type": "code",
   "execution_count": 13,
   "id": "df311c69-15fe-43b9-bbb4-1f81fdcede45",
   "metadata": {},
   "outputs": [
    {
     "data": {
      "text/plain": [
       "NormaltestResult(statistic=17.21801696640697, pvalue=0.00018245472768345307)"
      ]
     },
     "execution_count": 13,
     "metadata": {},
     "output_type": "execute_result"
    }
   ],
   "source": [
    "normaltest(log_tran)"
   ]
  },
  {
   "cell_type": "markdown",
   "id": "79cf2008-7e1c-4888-8c3e-a638e75fdae2",
   "metadata": {},
   "source": [
    "The pvalue is still very low. Usually we fail to reject the null hypothesis if the pvalue > 0.05, more specifically, null hypothesis mentions that the data is normally distributed."
   ]
  },
  {
   "cell_type": "markdown",
   "id": "389fdb92-2750-4f52-9581-063cb00d1197",
   "metadata": {},
   "source": [
    "### Square Root Transformation"
   ]
  },
  {
   "cell_type": "code",
   "execution_count": 14,
   "id": "de8de6a3-930a-4340-a93a-c24f1dfb3fcd",
   "metadata": {},
   "outputs": [
    {
     "data": {
      "text/plain": [
       "<Axes: xlabel='MEDV', ylabel='Density'>"
      ]
     },
     "execution_count": 14,
     "metadata": {},
     "output_type": "execute_result"
    },
    {
     "data": {
      "image/png": "[encoded data removed]",
      "text/plain": [
       "<Figure size 640x480 with 1 Axes>"
      ]
     },
     "metadata": {},
     "output_type": "display_data"
    }
   ],
   "source": [
    "sqrt_tran = np.sqrt(boston_data.MEDV)\n",
    "sns.distplot(sqrt_tran)"
   ]
  },
  {
   "cell_type": "code",
   "execution_count": 15,
   "id": "aebfe517-30f4-4c35-97da-423f137dc9e4",
   "metadata": {},
   "outputs": [
    {
     "data": {
      "text/plain": [
       "NormaltestResult(statistic=20.487090826863067, pvalue=3.558645701429252e-05)"
      ]
     },
     "execution_count": 15,
     "metadata": {},
     "output_type": "execute_result"
    }
   ],
   "source": [
    "normaltest(sqrt_tran)"
   ]
  },
  {
   "cell_type": "markdown",
   "id": "0b3b5ffd-a68b-4703-a3c7-fa31b51af4c3",
   "metadata": {},
   "source": [
    "The pvalue is still low, so we will perform the final transformation method that is *__boxcox__* transformation. \n",
    "\n",
    "Usually the exponent is 0.5 for the sqrt fn, but the boxcox is used to get the data as close to the normal distribution by varying exponents."
   ]
  },
  {
   "cell_type": "code",
   "execution_count": 16,
   "id": "a744b957-8540-45bb-a4e0-e4e4b5e51c95",
   "metadata": {},
   "outputs": [
    {
     "data": {
      "text/plain": [
       "<Axes: ylabel='Density'>"
      ]
     },
     "execution_count": 16,
     "metadata": {},
     "output_type": "execute_result"
    },
    {
     "data": {
      "image/png": "[encoded data removed]",
      "text/plain": [
       "<Figure size 640x480 with 1 Axes>"
      ]
     },
     "metadata": {},
     "output_type": "display_data"
    }
   ],
   "source": [
    "bc_result, lam = boxcox(boston_data.MEDV)\n",
    "sns.distplot(bc_result)"
   ]
  },
  {
   "cell_type": "code",
   "execution_count": 17,
   "id": "c414db80-5ce1-42b1-86b0-e9825e245fbd",
   "metadata": {},
   "outputs": [
    {
     "data": {
      "text/plain": [
       "NormaltestResult(statistic=4.513528743199032, pvalue=0.10468867097426256)"
      ]
     },
     "execution_count": 17,
     "metadata": {},
     "output_type": "execute_result"
    }
   ],
   "source": [
    "normaltest(bc_result)"
   ]
  },
  {
   "cell_type": "markdown",
   "id": "e7c04021-0fb1-45b3-b5dd-10dfc0128964",
   "metadata": {},
   "source": [
    "Conclusion: The pvalue is > 0.05, so the data is normally distributed and we fail to reject the null hypothesis."
   ]
  },
  {
   "cell_type": "code",
   "execution_count": 18,
   "id": "e36a1b62-70e1-41b2-a753-256ee30a7696",
   "metadata": {},
   "outputs": [
    {
     "data": {
      "text/plain": [
       "0.21662091178859486"
      ]
     },
     "execution_count": 18,
     "metadata": {},
     "output_type": "execute_result"
    }
   ],
   "source": [
    "lam"
   ]
  },
  {
   "cell_type": "markdown",
   "id": "2999fea9-89cb-4184-8bb8-30f932e8d082",
   "metadata": {},
   "source": [
    "# Testing Regression"
   ]
  },
  {
   "cell_type": "code",
   "execution_count": 20,
   "id": "e37ed56e-a025-42d3-a4c1-2a72e6c9213b",
   "metadata": {},
   "outputs": [],
   "source": [
    "linearReg = LinearRegression()"
   ]
  },
  {
   "cell_type": "code",
   "execution_count": 21,
   "id": "6e6d04a1-a4ba-404a-9ea6-38f9d5f451cd",
   "metadata": {},
   "outputs": [],
   "source": [
    "X = boston_data.drop('MEDV', axis=1)\n",
    "Y = boston_data.MEDV"
   ]
  },
  {
   "cell_type": "markdown",
   "id": "abff4348-e226-4035-82db-ab246c5433d6",
   "metadata": {},
   "source": [
    "Create Polynomial Features for the X"
   ]
  },
  {
   "cell_type": "code",
   "execution_count": 25,
   "id": "110ac0d6-639d-45dc-9b79-f5d24a7c17a9",
   "metadata": {},
   "outputs": [],
   "source": [
    "pf = PolynomialFeatures(degree=2, include_bias=False)\n",
    "X_pf = pf.fit_transform(X)"
   ]
  },
  {
   "cell_type": "code",
   "execution_count": 26,
   "id": "cf7293ae-6dbc-41aa-b5a0-f85c4ecbe936",
   "metadata": {},
   "outputs": [
    {
     "data": {
      "text/plain": [
       "(506, 13)"
      ]
     },
     "execution_count": 26,
     "metadata": {},
     "output_type": "execute_result"
    }
   ],
   "source": [
    "X.shape"
   ]
  },
  {
   "cell_type": "code",
   "execution_count": 27,
   "id": "d2db4bfb-0362-4cd2-9ab2-d64498afa8fe",
   "metadata": {},
   "outputs": [
    {
     "data": {
      "text/plain": [
       "(506, 104)"
      ]
     },
     "execution_count": 27,
     "metadata": {},
     "output_type": "execute_result"
    }
   ],
   "source": [
    "X_pf.shape"
   ]
  },
  {
   "cell_type": "markdown",
   "id": "3e75d8f9-be0c-4b33-9a14-33dc0646193d",
   "metadata": {},
   "source": [
    "### Split the data into training and test\n"
   ]
  },
  {
   "cell_type": "code",
   "execution_count": 28,
   "id": "a3d31b15-4144-428e-8520-b57e51ec9fd9",
   "metadata": {},
   "outputs": [],
   "source": [
    "X_train, X_test, y_train, y_test = train_test_split(X_pf, Y, test_size=0.3, random_state=45)"
   ]
  },
  {
   "cell_type": "markdown",
   "id": "67568a88-3a4a-43e6-8e73-6c0341cd534e",
   "metadata": {},
   "source": [
    "#### Normalize the training data using ```StandardScaler()``` function. on ```X_train```. Use ```fit_transform()``` function"
   ]
  },
  {
   "cell_type": "code",
   "execution_count": 29,
   "id": "e4f897a6-cc08-403e-b4c6-90fce58b44e5",
   "metadata": {},
   "outputs": [],
   "source": [
    "s = StandardScaler()\n",
    "X_train_s = s.fit_transform(X_train)"
   ]
  },
  {
   "cell_type": "code",
   "execution_count": 31,
   "id": "c23df298-33ad-418d-8856-62f16ad466bf",
   "metadata": {},
   "outputs": [
    {
     "data": {
      "text/plain": [
       "(354, 104)"
      ]
     },
     "execution_count": 31,
     "metadata": {},
     "output_type": "execute_result"
    }
   ],
   "source": [
    "X_train_s.shape"
   ]
  },
  {
   "cell_type": "markdown",
   "id": "b2d76668-b6e3-43a3-88cc-4e3ceffaa709",
   "metadata": {},
   "source": [
    "We need to normalize the target variable i.e., ```MEDV```"
   ]
  },
  {
   "cell_type": "code",
   "execution_count": 32,
   "id": "dd169e16-b473-4a2f-8572-2b1d83036337",
   "metadata": {},
   "outputs": [],
   "source": [
    "y_train_bc, lam = boxcox(y_train)"
   ]
  },
  {
   "cell_type": "markdown",
   "id": "d686ee2f-9056-4733-9695-46eca1d16f9f",
   "metadata": {},
   "source": [
    "As before, We will now:\n",
    "\n",
    "* Fit regression\n",
    "* Transform testing data\n",
    "* Predict on testing data"
   ]
  },
  {
   "cell_type": "code",
   "execution_count": 35,
   "id": "f599af9e-0d57-4b1f-b144-fe87a056120b",
   "metadata": {},
   "outputs": [],
   "source": [
    "linearReg.fit(X_train_s, y_train_bc)\n",
    "X_test_s = s.transform(X_test)\n",
    "y_pred_bc = linearReg.predict(X_test_s)"
   ]
  },
  {
   "cell_type": "code",
   "execution_count": 36,
   "id": "92d10141-20c7-47d9-a200-1293991d27bf",
   "metadata": {},
   "outputs": [
    {
     "data": {
      "text/plain": [
       "array([4.46637909, 5.41104743, 4.82248681, 4.54682742, 5.94104729,\n",
       "       3.74822425, 4.15095895, 4.14597061, 5.1333069 , 4.30129761,\n",
       "       2.66411978, 4.19255772, 6.04147794, 4.48947591, 4.20234918,\n",
       "       2.61794213, 4.96401624, 5.57563961, 2.88426191, 4.89478147,\n",
       "       4.21459797, 4.29027279, 4.79144313, 5.44759096, 4.27442984,\n",
       "       4.77013761, 4.71704778, 2.8134032 , 4.83677809, 4.25314024,\n",
       "       4.57493444, 2.9096788 , 5.33923322, 4.83128286, 6.24272293,\n",
       "       5.00115687, 5.95163769, 3.43707862, 5.18284752, 5.52454019,\n",
       "       3.82558016, 4.37755364, 4.0179318 , 5.20254975, 4.27078634,\n",
       "       3.26623688, 4.90371269, 4.91560857, 4.23759258, 4.40720538,\n",
       "       6.39737984, 4.41671533, 4.7428522 , 5.85892558, 3.44881142,\n",
       "       5.20844229, 2.97993357, 3.74573619, 4.19363165, 4.21828135,\n",
       "       3.29863143, 3.60128738, 5.67149749, 5.40010534, 3.90746331,\n",
       "       2.43492133, 6.2968081 , 6.27312091, 5.22102843, 4.17537909,\n",
       "       6.81613883, 4.41179445, 4.68943427, 3.3483878 , 3.78793947,\n",
       "       4.97894863, 5.60436771, 3.07923305, 5.52351208, 3.21540503,\n",
       "       3.45247712, 3.85933466, 5.18186317, 5.27137121, 4.79879334,\n",
       "       5.37888418, 4.61168169, 3.66261066, 3.97765222, 3.07756616,\n",
       "       3.78403275, 3.64710334, 4.47108811, 3.02774003, 5.06089726,\n",
       "       6.10792813, 4.379612  , 3.36782353, 5.05208929, 4.27301789,\n",
       "       4.65545447, 5.26839541, 4.4033458 , 4.93219498, 4.79483875,\n",
       "       3.58483193, 4.71513571, 4.55789147, 3.55420928, 3.96024117,\n",
       "       4.7591315 , 3.54297524, 2.59528007, 4.54269013, 4.54517276,\n",
       "       5.21268598, 3.95577303, 3.67368548, 3.62109174, 6.19207615,\n",
       "       4.62326023, 4.38346566, 4.9606718 , 1.95529028, 4.75997169,\n",
       "       5.16704789, 3.67956132, 5.5117456 , 5.44226941, 3.98272673,\n",
       "       4.66214306, 4.33595916, 3.9994525 , 4.41483106, 4.25432757,\n",
       "       4.39399477, 4.15829395, 5.12497877, 5.00819916, 4.72100527,\n",
       "       5.61104632, 4.92301172, 4.62250947, 4.17836021, 3.72465695,\n",
       "       4.0796975 , 4.55259337, 3.93688416, 4.18041658, 4.40918991,\n",
       "       6.46353998, 3.16815988])"
      ]
     },
     "execution_count": 36,
     "metadata": {},
     "output_type": "execute_result"
    }
   ],
   "source": [
    "y_pred_bc"
   ]
  },
  {
   "cell_type": "markdown",
   "id": "54e4e6dc-6936-48c8-ac19-83d4d55c208d",
   "metadata": {},
   "source": [
    "These are transformed values, but we need the non-transformed values for the y_predicted. \n",
    "\n",
    "We will use the inverse tranformations of the boxcox i.e., ```inv_boxcox()```"
   ]
  },
  {
   "cell_type": "code",
   "execution_count": 37,
   "id": "5fea54a9-62db-4595-9030-c3ed1e341d80",
   "metadata": {},
   "outputs": [],
   "source": [
    "from scipy.special import inv_boxcox"
   ]
  },
  {
   "cell_type": "markdown",
   "id": "42253fbe-fb70-41c3-8fb9-b73c92fcf10b",
   "metadata": {},
   "source": [
    "The lam we got earlier will be used her to find the inverse of all predicted values"
   ]
  },
  {
   "cell_type": "code",
   "execution_count": 38,
   "id": "083f64a7-3f7c-4324-bfe3-09f5e726732e",
   "metadata": {},
   "outputs": [
    {
     "data": {
      "text/plain": [
       "0.8783056245111108"
      ]
     },
     "execution_count": 38,
     "metadata": {},
     "output_type": "execute_result"
    }
   ],
   "source": [
    "y_pred_tran = inv_boxcox(y_pred_bc, lam)\n",
    "r2_score(y_test, y_pred_tran)"
   ]
  },
  {
   "cell_type": "markdown",
   "id": "6c27f34f-e564-4d3f-a3f4-2ee398f9b3ac",
   "metadata": {},
   "source": [
    "We found 87% accuracy in the r2 metrics"
   ]
  },
  {
   "cell_type": "code",
   "execution_count": null,
   "id": "237795d8-ec2b-4f15-8a7c-9809d5e8c40c",
   "metadata": {},
   "outputs": [],
   "source": []
  }
 ],
 "metadata": {
  "kernelspec": {
   "display_name": "Python 3 (ipykernel)",
   "language": "python",
   "name": "python3"
  },
  "language_info": {
   "codemirror_mode": {
    "name": "ipython",
    "version": 3
   },
   "file_extension": ".py",
   "mimetype": "text/x-python",
   "name": "python",
   "nbconvert_exporter": "python",
   "pygments_lexer": "ipython3",
   "version": "3.12.3"
  }
 },
 "nbformat": 4,
 "nbformat_minor": 5
}
